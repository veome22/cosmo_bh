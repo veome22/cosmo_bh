{
 "cells": [
  {
   "cell_type": "code",
   "execution_count": 1,
   "metadata": {},
   "outputs": [],
   "source": [
    "import numpy as np\n",
    "import math"
   ]
  },
  {
   "cell_type": "markdown",
   "metadata": {},
   "source": [
    "# Metallicity Grid"
   ]
  },
  {
   "cell_type": "code",
   "execution_count": 9,
   "metadata": {},
   "outputs": [
    {
     "name": "stdout",
     "output_type": "stream",
     "text": [
      "[0.0001     0.00018847 0.0003552  0.00066943 0.00126166 0.00237782\n",
      " 0.0044814  0.00844598 0.01591789 0.03      ]\n"
     ]
    }
   ],
   "source": [
    "Z_SOL = 0.0142 # COMPAS Default\n",
    "\n",
    "zminn = 0.000100 # COMPAS MIN\n",
    "zmaxx = 0.030000 # COMPAS MAX\n",
    "\n",
    "Z_MIN_LOG = np.log10(zminn)\n",
    "Z_MAX_LOG = np.log10(zmaxx)\n",
    "\n",
    "metallicities = np.logspace(Z_MIN_LOG, Z_MAX_LOG, 10)\n",
    "print(metallicities)"
   ]
  },
  {
   "cell_type": "markdown",
   "metadata": {},
   "source": [
    "# Star Forming Mass Grid"
   ]
  },
  {
   "cell_type": "code",
   "execution_count": 10,
   "metadata": {},
   "outputs": [
    {
     "name": "stdout",
     "output_type": "stream",
     "text": [
      "[1.e+03 1.e+04 1.e+05 1.e+06 1.e+07 1.e+08 1.e+09]\n",
      "[5.e+01 5.e+02 5.e+03 5.e+04 5.e+05 5.e+06 5.e+07]\n"
     ]
    }
   ],
   "source": [
    "SF_MIN_LOG = 3 # 1e3 M_sol\n",
    "SF_MAX_LOG = 9 # 1e9 M_sol\n",
    "\n",
    "sf_mass = np.logspace(SF_MIN_LOG, SF_MAX_LOG, 7)\n",
    "print(sf_mass)\n",
    "\n",
    "n_tot_binaries = sf_mass / 20.0 # Got this by looking at the average mass in a stellar binary drawn using Kroupa\n",
    "print(n_tot_binaries)"
   ]
  },
  {
   "cell_type": "markdown",
   "metadata": {},
   "source": [
    "# Writing the Sbatch Files"
   ]
  },
  {
   "cell_type": "code",
   "execution_count": 11,
   "metadata": {},
   "outputs": [],
   "source": [
    "def getSbatch(n_systems, metallicities=[0.0001], run_size=10000, job_name='cosmo_bh', queue='development', timeout = '02:00:00'):  \n",
    "    n_systems = int(n_systems)\n",
    "    run_size = int(run_size)\n",
    "    \n",
    "    n_runs = int(n_systems/run_size)\n",
    "    \n",
    "    tasks = n_runs*len(metallicities)\n",
    "    nodes = max(1, math.ceil(tasks/56))\n",
    "    \n",
    "        \n",
    "    preamble_text = f\"\"\"#!/bin/bash\n",
    "## COMPAS Slurm job script\n",
    "#   for TACC Frontera CLX nodes\n",
    "# \n",
    "#   *** MPI Job in Development Queue ***\n",
    "#\n",
    "#----------------------------------------------------\n",
    "\n",
    "#SBATCH -J {job_name}           # Job name\n",
    "#SBATCH -o {job_name}.o%j\t   # Name of stdout output file\n",
    "#SBATCH -e {job_name}.e%j\t   # Name of stderr error file\n",
    "#SBATCH -p {queue}          # Queue (partition) name\n",
    "#SBATCH -N {nodes}             # Total # of nodes\n",
    "#SBATCH -n {tasks}             # Total # of mpi tasks\n",
    "#SBATCH -t {timeout}       # Run time (hh:mm:ss)\n",
    "#SBATCH --mail-type=all    # Send email at begin and end of job\n",
    "#SBATCH --mail-user=vkapil1@jh.edu\n",
    "\n",
    "# Any other commands must follow all #SBATCH directives...\n",
    "\n",
    "# Load modules\n",
    "module reset \n",
    "module load TACC intel impi hdf5 gsl gcc\n",
    "# Print information\n",
    "module list\n",
    "pwd\n",
    "date\n",
    "\n",
    "export I_MPI_DEBUG=4\n",
    "\n",
    "mkdir $WORK/cosmo_bh_grid/n_{n_systems:.2e}\n",
    "\n",
    "# Launch MPI code...\n",
    "\"\"\"\n",
    "    for met in metallicities:\n",
    "        preamble_text+= f'mkdir $WORK/cosmo_bh_grid/n_{n_systems:.2e}/met_{met:.2e}\\n' \n",
    "\n",
    "    preamble_text += f\"\\nfor i in `seq 1 {n_runs}` \\ndo \\n\"\n",
    "    \n",
    "    for met in metallicities:\n",
    "        output_path = f'$WORK/cosmo_bh_grid/n_{n_systems:.2e}/met_{met:.2e}'\n",
    "        specs = f\" --number-of-systems {run_size} --output-path {output_path}/ --metallicity {met:.8f}\"\n",
    "        preamble_text += f\"    ibrun -n 1 ~/COMPAS/src/COMPAS\" + specs + f\" --output-container run_$i & \\n\"\n",
    "    \n",
    "    preamble_text += \"done \\nwait\"\n",
    "    \n",
    "    return preamble_text\n",
    "\n"
   ]
  },
  {
   "cell_type": "code",
   "execution_count": 12,
   "metadata": {},
   "outputs": [
    {
     "data": {
      "text/plain": [
       "0.0001"
      ]
     },
     "execution_count": 12,
     "metadata": {},
     "output_type": "execute_result"
    }
   ],
   "source": [
    "metallicities[0]"
   ]
  },
  {
   "cell_type": "code",
   "execution_count": 5,
   "metadata": {},
   "outputs": [
    {
     "name": "stdout",
     "output_type": "stream",
     "text": [
      "Job: n_5.00e+06_met_3.00e-02_to_3.00e-02\n",
      "\n",
      "#!/bin/bash\n",
      "## COMPAS Slurm job script\n",
      "#   for TACC Frontera CLX nodes\n",
      "# \n",
      "#   *** MPI Job in Development Queue ***\n",
      "#\n",
      "#----------------------------------------------------\n",
      "\n",
      "#SBATCH -J n_5.00e+06_met_3.00e-02_to_3.00e-02           # Job name\n",
      "#SBATCH -o n_5.00e+06_met_3.00e-02_to_3.00e-02.o%j\t   # Name of stdout output file\n",
      "#SBATCH -e n_5.00e+06_met_3.00e-02_to_3.00e-02.e%j\t   # Name of stderr error file\n",
      "#SBATCH -p small          # Queue (partition) name\n",
      "#SBATCH -N 1             # Total # of nodes\n",
      "#SBATCH -n 10             # Total # of mpi tasks\n",
      "#SBATCH -t 48:00:00       # Run time (hh:mm:ss)\n",
      "#SBATCH --mail-type=all    # Send email at begin and end of job\n",
      "#SBATCH --mail-user=vkapil1@jh.edu\n",
      "\n",
      "# Any other commands must follow all #SBATCH directives...\n",
      "\n",
      "# Load modules\n",
      "module reset \n",
      "module load TACC intel impi hdf5 gsl gcc\n",
      "# Print information\n",
      "module list\n",
      "pwd\n",
      "date\n",
      "\n",
      "export I_MPI_DEBUG=4\n",
      "\n",
      "mkdir $WORK/cosmo_bh_grid/n_5.00e+06\n",
      "\n",
      "# Launch MPI code...\n",
      "mkdir $WORK/cosmo_bh_grid/n_5.00e+06/met_3.00e-02\n",
      "\n",
      "for i in `seq 1 10` \n",
      "do \n",
      "    ibrun -n 1 ~/COMPAS/src/COMPAS --number-of-systems 500000 --output-path $WORK/cosmo_bh_grid/n_5.00e+06/met_3.00e-02/ --metallicity 0.03000000 --output-container run_$i & \n",
      "done \n",
      "wait\n"
     ]
    }
   ],
   "source": [
    "n_binaries = n_tot_binaries[5]\n",
    "\n",
    "met_min = 9 # MIN = 1\n",
    "met_max = 10 # MAX = 10\n",
    "\n",
    "job_name = f\"n_{n_binaries:.2e}_met_{metallicities[met_min]:.2e}_to_{metallicities[met_max-1]:.2e}\"\n",
    "print(f\"Job: {job_name}\\n\")\n",
    "\n",
    "sbatch_text = getSbatch(n_binaries, metallicities[met_min:met_max], run_size=500000, job_name=job_name, queue='small', timeout='48:00:00')\n",
    "print(sbatch_text)\n",
    "\n",
    "# file1 = open(f\"sbatch_cosmo/{job_name}\", \"w\")  # write mode\n",
    "# file1.write(sbatch_text)\n",
    "# file1.close()"
   ]
  },
  {
   "cell_type": "markdown",
   "metadata": {},
   "source": [
    "# h5copy commands"
   ]
  },
  {
   "cell_type": "code",
   "execution_count": 4,
   "metadata": {},
   "outputs": [
    {
     "name": "stdout",
     "output_type": "stream",
     "text": [
      "$WORK/h5copy.py -o $WORK/cosmo_bh_grid/n_5.00e+06/met_1.00e-04_combined.h5 $WORK/cosmo_bh_grid/n_5.00e+06/met_1.00e-04/ -r \n",
      "$WORK/h5copy.py -o $WORK/cosmo_bh_grid/n_5.00e+06/met_1.88e-04_combined.h5 $WORK/cosmo_bh_grid/n_5.00e+06/met_1.88e-04/ -r \n",
      "$WORK/h5copy.py -o $WORK/cosmo_bh_grid/n_5.00e+06/met_3.55e-04_combined.h5 $WORK/cosmo_bh_grid/n_5.00e+06/met_3.55e-04/ -r \n",
      "$WORK/h5copy.py -o $WORK/cosmo_bh_grid/n_5.00e+06/met_6.69e-04_combined.h5 $WORK/cosmo_bh_grid/n_5.00e+06/met_6.69e-04/ -r \n",
      "$WORK/h5copy.py -o $WORK/cosmo_bh_grid/n_5.00e+06/met_1.26e-03_combined.h5 $WORK/cosmo_bh_grid/n_5.00e+06/met_1.26e-03/ -r \n",
      "$WORK/h5copy.py -o $WORK/cosmo_bh_grid/n_5.00e+06/met_2.38e-03_combined.h5 $WORK/cosmo_bh_grid/n_5.00e+06/met_2.38e-03/ -r \n",
      "$WORK/h5copy.py -o $WORK/cosmo_bh_grid/n_5.00e+06/met_4.48e-03_combined.h5 $WORK/cosmo_bh_grid/n_5.00e+06/met_4.48e-03/ -r \n",
      "$WORK/h5copy.py -o $WORK/cosmo_bh_grid/n_5.00e+06/met_8.45e-03_combined.h5 $WORK/cosmo_bh_grid/n_5.00e+06/met_8.45e-03/ -r \n",
      "$WORK/h5copy.py -o $WORK/cosmo_bh_grid/n_5.00e+06/met_1.59e-02_combined.h5 $WORK/cosmo_bh_grid/n_5.00e+06/met_1.59e-02/ -r \n",
      "$WORK/h5copy.py -o $WORK/cosmo_bh_grid/n_5.00e+06/met_3.00e-02_combined.h5 $WORK/cosmo_bh_grid/n_5.00e+06/met_3.00e-02/ -r \n"
     ]
    }
   ],
   "source": [
    "n_binaries = n_tot_binaries[5]\n",
    "met_range = metallicities[:]\n",
    "\n",
    "for met in met_range:\n",
    "    print(f\"$WORK/h5copy.py -o $WORK/cosmo_bh_grid/n_{n_binaries:.2e}/met_{met:.2e}_combined.h5 $WORK/cosmo_bh_grid/n_{n_binaries:.2e}/met_{met:.2e}/ -r \")"
   ]
  },
  {
   "cell_type": "code",
   "execution_count": null,
   "metadata": {},
   "outputs": [],
   "source": []
  }
 ],
 "metadata": {
  "kernelspec": {
   "display_name": "Python 3",
   "language": "python",
   "name": "python3"
  },
  "language_info": {
   "codemirror_mode": {
    "name": "ipython",
    "version": 3
   },
   "file_extension": ".py",
   "mimetype": "text/x-python",
   "name": "python",
   "nbconvert_exporter": "python",
   "pygments_lexer": "ipython3",
   "version": "3.7.0"
  },
  "latex_envs": {
   "LaTeX_envs_menu_present": true,
   "autoclose": false,
   "autocomplete": true,
   "bibliofile": "biblio.bib",
   "cite_by": "apalike",
   "current_citInitial": 1,
   "eqLabelWithNumbers": true,
   "eqNumInitial": 1,
   "hotkeys": {
    "equation": "Ctrl-E",
    "itemize": "Ctrl-I"
   },
   "labels_anchors": false,
   "latex_user_defs": false,
   "report_style_numbering": false,
   "user_envs_cfg": false
  },
  "toc": {
   "base_numbering": 1,
   "nav_menu": {},
   "number_sections": true,
   "sideBar": true,
   "skip_h1_title": false,
   "title_cell": "Table of Contents",
   "title_sidebar": "Contents",
   "toc_cell": false,
   "toc_position": {},
   "toc_section_display": true,
   "toc_window_display": false
  }
 },
 "nbformat": 4,
 "nbformat_minor": 5
}
