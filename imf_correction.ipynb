{
 "cells": [
  {
   "cell_type": "code",
   "execution_count": 1,
   "metadata": {},
   "outputs": [],
   "source": [
    "import numpy as np\n",
    "import matplotlib.pyplot as plt"
   ]
  },
  {
   "cell_type": "code",
   "execution_count": 2,
   "metadata": {},
   "outputs": [],
   "source": [
    "N = 10000\n",
    "mass = np.linspace(0.01, 150, N)"
   ]
  },
  {
   "cell_type": "code",
   "execution_count": 3,
   "metadata": {},
   "outputs": [],
   "source": [
    "def IMF_kroupa(m):\n",
    "    '''\n",
    "    Kroupa (2002) initial mass function.\n",
    "    @in m: stellar mass in solar masses, array input\n",
    "    @out : number dN of stars in mass bin [m,m+dm] in units of 1/Msun\n",
    "    '''\n",
    "    # mass boundaries (in solar masses):\n",
    "    m1=0.08\n",
    "    m2=0.50\n",
    "    m3=1.00\n",
    "    # spectral indices (broken power law; central values):\n",
    "    a0=-0.3\n",
    "    a1=-1.3\n",
    "    a2=-2.3\n",
    "    a3=-2.3\n",
    "    # normalization constants:\n",
    "    c1=m1**a0/m1**a1\n",
    "    c2=c1*m2**a1/m2**a2\n",
    "    c3=c2*m3**a2/m3**a3\n",
    "    out=np.zeros(m.size)\n",
    "    for i in range(0,m.size):\n",
    "        if  (m[i]<=m1):\n",
    "            out[i]=m[i]**a0\n",
    "        elif(m[i]<=m2 and m[i]>m1):\n",
    "            out[i]=c1*m[i]**a1\n",
    "        elif(m[i]<=m3 and m[i]>m2):\n",
    "            out[i]=c2*m[i]**a2\n",
    "        elif(m[i]>=m3):\n",
    "            out[i]=c3*m[i]**a3\n",
    "    return out"
   ]
  },
  {
   "cell_type": "code",
   "execution_count": 5,
   "metadata": {},
   "outputs": [
    {
     "data": {
      "image/png": "[encoded data removed]",
      "text/plain": [
       "<Figure size 432x288 with 1 Axes>"
      ]
     },
     "metadata": {
      "needs_background": "light"
     },
     "output_type": "display_data"
    }
   ],
   "source": [
    "plt.plot(mass, IMF_kroupa(mass))\n",
    "plt.loglog()\n",
    "plt.show()"
   ]
  },
  {
   "cell_type": "code",
   "execution_count": 6,
   "metadata": {},
   "outputs": [
    {
     "data": {
      "text/plain": [
       "1.0"
      ]
     },
     "execution_count": 6,
     "metadata": {},
     "output_type": "execute_result"
    }
   ],
   "source": [
    "kroupa = IMF_kroupa(mass)\n",
    "kroupa = kroupa/np.sum(kroupa)\n",
    "kroupa.sum()"
   ]
  },
  {
   "cell_type": "code",
   "execution_count": 7,
   "metadata": {},
   "outputs": [],
   "source": [
    "import scipy.integrate as integrate\n",
    "def Mass_frac(m1, m2, mL, mU):\n",
    "    return integrate.quad(lambda m: m*IMF_kroupa(np.array([m])), m1, m2)[0]\\\n",
    "    / integrate.quad(lambda m: m*IMF_kroupa(np.array([m])), mL, mU)[0]\n",
    "def Number_frac(m1, m2, mL, mU):\n",
    "    return integrate.quad(lambda m: IMF_kroupa(np.array([m])), m1, m2)[0]\\\n",
    "    / integrate.quad(lambda m: IMF_kroupa(np.array([m])), mL, mU)[0]"
   ]
  },
  {
   "cell_type": "code",
   "execution_count": 10,
   "metadata": {},
   "outputs": [],
   "source": [
    "# Find out how much of the total SFM have I simulated if \n",
    "# my simulations include masses between [m1, m2]\n",
    "m1 = 5.\n",
    "m2 = 150.\n",
    "mL = 0.01\n",
    "mU = 150.\n",
    "sim_mass_frac = Mass_frac(m1, m2, mL, mU)"
   ]
  },
  {
   "cell_type": "code",
   "execution_count": 11,
   "metadata": {},
   "outputs": [
    {
     "name": "stdout",
     "output_type": "stream",
     "text": [
      "Roughly 27.24% of the initial mass is in stars between [5.0, 150.0] solar Masses.\n"
     ]
    }
   ],
   "source": [
    "print(f'Roughly {(sim_mass_frac)*100:.2f}% of the initial mass is in stars between [{m1}, {m2}] solar Masses.')\n"
   ]
  },
  {
   "cell_type": "code",
   "execution_count": 14,
   "metadata": {},
   "outputs": [
    {
     "name": "stdout",
     "output_type": "stream",
     "text": [
      "Need to multiply the simulated SFM by 3.671 to get the TOTAL SFM in that galaxy\n"
     ]
    }
   ],
   "source": [
    "SFM_CORR = 1/sim_mass_frac\n",
    "print(f'Need to multiply the simulated SFM by {SFM_CORR:.3f} to get the TOTAL SFM in that galaxy')"
   ]
  },
  {
   "cell_type": "code",
   "execution_count": null,
   "metadata": {},
   "outputs": [],
   "source": []
  }
 ],
 "metadata": {
  "kernelspec": {
   "display_name": "Python 3",
   "language": "python",
   "name": "python3"
  },
  "language_info": {
   "codemirror_mode": {
    "name": "ipython",
    "version": 3
   },
   "file_extension": ".py",
   "mimetype": "text/x-python",
   "name": "python",
   "nbconvert_exporter": "python",
   "pygments_lexer": "ipython3",
   "version": "3.9.7"
  },
  "latex_envs": {
   "LaTeX_envs_menu_present": true,
   "autoclose": false,
   "autocomplete": true,
   "bibliofile": "biblio.bib",
   "cite_by": "apalike",
   "current_citInitial": 1,
   "eqLabelWithNumbers": true,
   "eqNumInitial": 1,
   "hotkeys": {
    "equation": "Ctrl-E",
    "itemize": "Ctrl-I"
   },
   "labels_anchors": false,
   "latex_user_defs": false,
   "report_style_numbering": false,
   "user_envs_cfg": false
  },
  "toc": {
   "base_numbering": 1,
   "nav_menu": {},
   "number_sections": true,
   "sideBar": true,
   "skip_h1_title": false,
   "title_cell": "Table of Contents",
   "title_sidebar": "Contents",
   "toc_cell": false,
   "toc_position": {},
   "toc_section_display": true,
   "toc_window_display": false
  }
 },
 "nbformat": 4,
 "nbformat_minor": 2
}
