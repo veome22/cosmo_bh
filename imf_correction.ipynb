{
 "cells": [
  {
   "cell_type": "code",
   "execution_count": 42,
   "metadata": {},
   "outputs": [],
   "source": [
    "import numpy as np\n",
    "import matplotlib.pyplot as plt"
   ]
  },
  {
   "cell_type": "code",
   "execution_count": 43,
   "metadata": {},
   "outputs": [],
   "source": [
    "N = 10000\n",
    "mass = np.linspace(0.01, 150, N)"
   ]
  },
  {
   "cell_type": "code",
   "execution_count": 44,
   "metadata": {},
   "outputs": [],
   "source": [
    "a0 = -0.3\n",
    "a1 = -1.3\n",
    "a2 = -2.3"
   ]
  },
  {
   "cell_type": "code",
   "execution_count": 45,
   "metadata": {},
   "outputs": [],
   "source": [
    "brk1 = np.where(mass>0.08)[0][0]\n",
    "brk2 = np.where(mass>0.5)[0][0]"
   ]
  },
  {
   "cell_type": "code",
   "execution_count": 46,
   "metadata": {},
   "outputs": [],
   "source": [
    "kroupa = np.zeros(len(mass))\n",
    "kroupa[:brk1] = mass[:brk1]**a0\n",
    "kroupa[brk1:brk2] = mass[brk1:brk2]**a1\n",
    "kroupa[brk2:] = mass[brk2:]**a2"
   ]
  },
  {
   "cell_type": "code",
   "execution_count": 47,
   "metadata": {},
   "outputs": [
    {
     "data": {
      "image/png": "[encoded data removed]",
      "text/plain": [
       "<Figure size 432x288 with 1 Axes>"
      ]
     },
     "metadata": {
      "needs_background": "light"
     },
     "output_type": "display_data"
    }
   ],
   "source": [
    "plt.plot(mass, kroupa)\n",
    "plt.loglog()\n",
    "plt.show()"
   ]
  },
  {
   "cell_type": "code",
   "execution_count": 61,
   "metadata": {},
   "outputs": [],
   "source": [
    "M_CUTOFF = 5.0\n",
    "for k in range(0, N):\n",
    "    if k == 0:\n",
    "        xx = mass\n",
    "        yy = kroupa\n",
    "    else:\n",
    "        xx = mass[0:-k]\n",
    "        yy = kroupa[0:-k]\n",
    "    v = np.trapz(yy, xx)\n",
    "#     print(f\"Integral {k} from {xx[0]} to {xx[-1]} is equal to {v}\")\n",
    "    if xx[-1] < M_CUTOFF:\n",
    "        break"
   ]
  },
  {
   "cell_type": "code",
   "execution_count": 62,
   "metadata": {},
   "outputs": [
    {
     "name": "stdout",
     "output_type": "stream",
     "text": [
      "Roughly 1.82% of the initial mass is in stars between [5.0, 150] solar Masses.\n"
     ]
    }
   ],
   "source": [
    "print(f'Roughly {(1-v)*100:.2f}% of the initial mass is in stars between [{M_CUTOFF}, 150] solar Masses.')"
   ]
  },
  {
   "cell_type": "code",
   "execution_count": 64,
   "metadata": {},
   "outputs": [
    {
     "name": "stdout",
     "output_type": "stream",
     "text": [
      "54.81023688478875\n"
     ]
    }
   ],
   "source": [
    "SFM_CORR = 1/(1-v)\n",
    "print(SFM_CORR)"
   ]
  },
  {
   "cell_type": "code",
   "execution_count": null,
   "metadata": {},
   "outputs": [],
   "source": []
  }
 ],
 "metadata": {
  "kernelspec": {
   "display_name": "Python 3",
   "language": "python",
   "name": "python3"
  },
  "language_info": {
   "codemirror_mode": {
    "name": "ipython",
    "version": 3
   },
   "file_extension": ".py",
   "mimetype": "text/x-python",
   "name": "python",
   "nbconvert_exporter": "python",
   "pygments_lexer": "ipython3",
   "version": "3.7.0"
  }
 },
 "nbformat": 4,
 "nbformat_minor": 2
}
