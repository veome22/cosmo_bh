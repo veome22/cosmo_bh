{
 "cells": [
  {
   "cell_type": "markdown",
   "metadata": {},
   "source": [
    "# Setup"
   ]
  },
  {
   "cell_type": "code",
   "execution_count": 1,
   "metadata": {},
   "outputs": [],
   "source": [
    "import numpy as np\n",
    "import matplotlib\n",
    "import matplotlib.pyplot as plt\n",
    "from scipy import stats\n",
    "from scipy import interpolate\n",
    "\n",
    "import os\n",
    "import time\n",
    "\n",
    "from matplotlib.colors import LogNorm, Normalize\n",
    "from matplotlib.ticker import FormatStrFormatter\n",
    "from matplotlib.animation import FuncAnimation\n",
    "\n",
    "import seaborn as sns\n",
    "import json"
   ]
  },
  {
   "cell_type": "code",
   "execution_count": 2,
   "metadata": {},
   "outputs": [],
   "source": [
    "# Enable interactive plot\n",
    "%matplotlib notebook"
   ]
  },
  {
   "cell_type": "code",
   "execution_count": 3,
   "metadata": {},
   "outputs": [],
   "source": [
    "from cosmo_bbh_tools import cosmo_bbh_tools as cbt"
   ]
  },
  {
   "cell_type": "code",
   "execution_count": 4,
   "metadata": {},
   "outputs": [
    {
     "name": "stdout",
     "output_type": "stream",
     "text": [
      "14105.485021361645\n"
     ]
    }
   ],
   "source": [
    "from astropy.cosmology import WMAP9 as cosmo\n",
    "import astropy.units as u\n",
    "H0 = cosmo.H(0)\n",
    "t0 = 1.0/H0\n",
    "t0_Myr = t0.decompose().to(u.Myr)\n",
    "T_HUBBLE_MYR = t0_Myr.value\n",
    "print(T_HUBBLE_MYR)"
   ]
  },
  {
   "cell_type": "code",
   "execution_count": 6,
   "metadata": {},
   "outputs": [
    {
     "name": "stdout",
     "output_type": "stream",
     "text": [
      "[50.0, 500.0, 5000.0, 50000.0, 500000.0, 5000000.0]\n",
      "[0.0001     0.00018847 0.0003552  0.00066943 0.00126166 0.00237782\n",
      " 0.0044814  0.00844598 0.01591789 0.03      ]\n"
     ]
    }
   ],
   "source": [
    "n_systems_all = [5e1, 5e2, 5e3, 5e4, 5e5, 5e6]\n",
    "n_systems = n_systems_all[:]\n",
    "print(n_systems)\n",
    "\n",
    "zminn = 0.000100 # COMPAS MIN\n",
    "zmaxx = 0.030000 # COMPAS MAX\n",
    "Z_MIN_LOG = np.log10(zminn)\n",
    "Z_MAX_LOG = np.log10(zmaxx)\n",
    "\n",
    "metallicities = np.logspace(Z_MIN_LOG, Z_MAX_LOG, 10)\n",
    "print(metallicities)"
   ]
  },
  {
   "cell_type": "code",
   "execution_count": 5,
   "metadata": {},
   "outputs": [],
   "source": [
    "def get_index(n, met):\n",
    "    assert met < len(metallicities), f\"metallicity index cannot exceed {len(metallicities)-1}\"\n",
    "    return n*len(metallicities) + met"
   ]
  },
  {
   "cell_type": "markdown",
   "metadata": {},
   "source": [
    "# Begin Writing useful information"
   ]
  },
  {
   "cell_type": "code",
   "execution_count": 7,
   "metadata": {},
   "outputs": [],
   "source": [
    "PathData =     os.environ['WORK'] + '/cosmo_bh_grid/'"
   ]
  },
  {
   "cell_type": "code",
   "execution_count": 8,
   "metadata": {
    "scrolled": true
   },
   "outputs": [
    {
     "name": "stdout",
     "output_type": "stream",
     "text": [
      "loading data from /work2/08178/vkapil/frontera/cosmo_bh_grid/n_5.00e+01/met_1.00e-04_combined.h5\n",
      "No DCOs were found\n",
      "loading data from /work2/08178/vkapil/frontera/cosmo_bh_grid/n_5.00e+01/met_1.88e-04_combined.h5\n",
      "No DCOs were found\n",
      "loading data from /work2/08178/vkapil/frontera/cosmo_bh_grid/n_5.00e+01/met_3.55e-04_combined.h5\n",
      "No DCOs were found\n",
      "loading data from /work2/08178/vkapil/frontera/cosmo_bh_grid/n_5.00e+01/met_6.69e-04_combined.h5\n",
      "No DCOs were found\n",
      "loading data from /work2/08178/vkapil/frontera/cosmo_bh_grid/n_5.00e+01/met_1.26e-03_combined.h5\n",
      "No DCOs were found\n",
      "loading data from /work2/08178/vkapil/frontera/cosmo_bh_grid/n_5.00e+01/met_2.38e-03_combined.h5\n",
      "loading data from /work2/08178/vkapil/frontera/cosmo_bh_grid/n_5.00e+01/met_4.48e-03_combined.h5\n",
      "No DCOs were found\n",
      "loading data from /work2/08178/vkapil/frontera/cosmo_bh_grid/n_5.00e+01/met_8.45e-03_combined.h5\n",
      "No DCOs were found\n",
      "loading data from /work2/08178/vkapil/frontera/cosmo_bh_grid/n_5.00e+01/met_1.59e-02_combined.h5\n",
      "No DCOs were found\n",
      "loading data from /work2/08178/vkapil/frontera/cosmo_bh_grid/n_5.00e+01/met_3.00e-02_combined.h5\n",
      "No DCOs were found\n",
      "loading data from /work2/08178/vkapil/frontera/cosmo_bh_grid/n_5.00e+02/met_1.00e-04_combined.h5\n",
      "loading data from /work2/08178/vkapil/frontera/cosmo_bh_grid/n_5.00e+02/met_1.88e-04_combined.h5\n",
      "loading data from /work2/08178/vkapil/frontera/cosmo_bh_grid/n_5.00e+02/met_3.55e-04_combined.h5\n",
      "loading data from /work2/08178/vkapil/frontera/cosmo_bh_grid/n_5.00e+02/met_6.69e-04_combined.h5\n",
      "loading data from /work2/08178/vkapil/frontera/cosmo_bh_grid/n_5.00e+02/met_1.26e-03_combined.h5\n",
      "loading data from /work2/08178/vkapil/frontera/cosmo_bh_grid/n_5.00e+02/met_2.38e-03_combined.h5\n",
      "loading data from /work2/08178/vkapil/frontera/cosmo_bh_grid/n_5.00e+02/met_4.48e-03_combined.h5\n",
      "loading data from /work2/08178/vkapil/frontera/cosmo_bh_grid/n_5.00e+02/met_8.45e-03_combined.h5\n",
      "loading data from /work2/08178/vkapil/frontera/cosmo_bh_grid/n_5.00e+02/met_1.59e-02_combined.h5\n",
      "loading data from /work2/08178/vkapil/frontera/cosmo_bh_grid/n_5.00e+02/met_3.00e-02_combined.h5\n",
      "No DCOs were found\n",
      "loading data from /work2/08178/vkapil/frontera/cosmo_bh_grid/n_5.00e+03/met_1.00e-04_combined.h5\n",
      "loading data from /work2/08178/vkapil/frontera/cosmo_bh_grid/n_5.00e+03/met_1.88e-04_combined.h5\n",
      "loading data from /work2/08178/vkapil/frontera/cosmo_bh_grid/n_5.00e+03/met_3.55e-04_combined.h5\n",
      "loading data from /work2/08178/vkapil/frontera/cosmo_bh_grid/n_5.00e+03/met_6.69e-04_combined.h5\n",
      "loading data from /work2/08178/vkapil/frontera/cosmo_bh_grid/n_5.00e+03/met_1.26e-03_combined.h5\n",
      "loading data from /work2/08178/vkapil/frontera/cosmo_bh_grid/n_5.00e+03/met_2.38e-03_combined.h5\n",
      "loading data from /work2/08178/vkapil/frontera/cosmo_bh_grid/n_5.00e+03/met_4.48e-03_combined.h5\n",
      "loading data from /work2/08178/vkapil/frontera/cosmo_bh_grid/n_5.00e+03/met_8.45e-03_combined.h5\n",
      "loading data from /work2/08178/vkapil/frontera/cosmo_bh_grid/n_5.00e+03/met_1.59e-02_combined.h5\n",
      "loading data from /work2/08178/vkapil/frontera/cosmo_bh_grid/n_5.00e+03/met_3.00e-02_combined.h5\n",
      "No DCOs were found\n",
      "loading data from /work2/08178/vkapil/frontera/cosmo_bh_grid/n_5.00e+04/met_1.00e-04_combined.h5\n",
      "loading data from /work2/08178/vkapil/frontera/cosmo_bh_grid/n_5.00e+04/met_1.88e-04_combined.h5\n",
      "loading data from /work2/08178/vkapil/frontera/cosmo_bh_grid/n_5.00e+04/met_3.55e-04_combined.h5\n",
      "loading data from /work2/08178/vkapil/frontera/cosmo_bh_grid/n_5.00e+04/met_6.69e-04_combined.h5\n",
      "loading data from /work2/08178/vkapil/frontera/cosmo_bh_grid/n_5.00e+04/met_1.26e-03_combined.h5\n",
      "loading data from /work2/08178/vkapil/frontera/cosmo_bh_grid/n_5.00e+04/met_2.38e-03_combined.h5\n",
      "loading data from /work2/08178/vkapil/frontera/cosmo_bh_grid/n_5.00e+04/met_4.48e-03_combined.h5\n",
      "loading data from /work2/08178/vkapil/frontera/cosmo_bh_grid/n_5.00e+04/met_8.45e-03_combined.h5\n",
      "loading data from /work2/08178/vkapil/frontera/cosmo_bh_grid/n_5.00e+04/met_1.59e-02_combined.h5\n",
      "loading data from /work2/08178/vkapil/frontera/cosmo_bh_grid/n_5.00e+04/met_3.00e-02_combined.h5\n",
      "loading data from /work2/08178/vkapil/frontera/cosmo_bh_grid/n_5.00e+05/met_1.00e-04_combined.h5\n",
      "loading data from /work2/08178/vkapil/frontera/cosmo_bh_grid/n_5.00e+05/met_1.88e-04_combined.h5\n",
      "loading data from /work2/08178/vkapil/frontera/cosmo_bh_grid/n_5.00e+05/met_3.55e-04_combined.h5\n",
      "loading data from /work2/08178/vkapil/frontera/cosmo_bh_grid/n_5.00e+05/met_6.69e-04_combined.h5\n",
      "loading data from /work2/08178/vkapil/frontera/cosmo_bh_grid/n_5.00e+05/met_1.26e-03_combined.h5\n",
      "loading data from /work2/08178/vkapil/frontera/cosmo_bh_grid/n_5.00e+05/met_2.38e-03_combined.h5\n",
      "loading data from /work2/08178/vkapil/frontera/cosmo_bh_grid/n_5.00e+05/met_4.48e-03_combined.h5\n",
      "loading data from /work2/08178/vkapil/frontera/cosmo_bh_grid/n_5.00e+05/met_8.45e-03_combined.h5\n",
      "loading data from /work2/08178/vkapil/frontera/cosmo_bh_grid/n_5.00e+05/met_1.59e-02_combined.h5\n",
      "loading data from /work2/08178/vkapil/frontera/cosmo_bh_grid/n_5.00e+05/met_3.00e-02_combined.h5\n",
      "loading data from /work2/08178/vkapil/frontera/cosmo_bh_grid/n_5.00e+06/met_1.00e-04_combined.h5\n",
      "loading data from /work2/08178/vkapil/frontera/cosmo_bh_grid/n_5.00e+06/met_1.88e-04_combined.h5\n",
      "loading data from /work2/08178/vkapil/frontera/cosmo_bh_grid/n_5.00e+06/met_3.55e-04_combined.h5\n",
      "loading data from /work2/08178/vkapil/frontera/cosmo_bh_grid/n_5.00e+06/met_6.69e-04_combined.h5\n",
      "loading data from /work2/08178/vkapil/frontera/cosmo_bh_grid/n_5.00e+06/met_1.26e-03_combined.h5\n",
      "loading data from /work2/08178/vkapil/frontera/cosmo_bh_grid/n_5.00e+06/met_2.38e-03_combined.h5\n",
      "loading data from /work2/08178/vkapil/frontera/cosmo_bh_grid/n_5.00e+06/met_4.48e-03_combined.h5\n",
      "loading data from /work2/08178/vkapil/frontera/cosmo_bh_grid/n_5.00e+06/met_8.45e-03_combined.h5\n",
      "loading data from /work2/08178/vkapil/frontera/cosmo_bh_grid/n_5.00e+06/met_1.59e-02_combined.h5\n",
      "loading data from /work2/08178/vkapil/frontera/cosmo_bh_grid/n_5.00e+06/met_3.00e-02_combined.h5\n"
     ]
    }
   ],
   "source": [
    "Z_ALL, M1_ZAMS_ALL, M2_ZAMS_ALL, M1_CO_ALL, M2_CO_ALL, \\\n",
    "                SMA_CO_ALL, ECC_CO_ALL, TYPE1_CO_ALL, TYPE2_CO_ALL, DELAY_TIMES_ALL  = cbt.load_data(n_systems, metallicities, PathData)"
   ]
  },
  {
   "cell_type": "code",
   "execution_count": 9,
   "metadata": {},
   "outputs": [
    {
     "name": "stdout",
     "output_type": "stream",
     "text": [
      "Star Forming Mass in 5.00e+01 stars: 2.97e+03 M_sol \n",
      "\n",
      "Star Forming Mass in 5.00e+02 stars: 3.19e+04 M_sol \n",
      "\n",
      "Star Forming Mass in 5.00e+03 stars: 3.59e+05 M_sol \n",
      "\n",
      "Star Forming Mass in 5.00e+04 stars: 3.76e+06 M_sol \n",
      "\n",
      "Star Forming Mass in 5.00e+05 stars: 3.75e+07 M_sol \n",
      "\n",
      "Star Forming Mass in 5.00e+06 stars: 3.76e+08 M_sol \n",
      "\n",
      "[2.97380734e+03 3.19232086e+04 3.59218010e+05 3.75513954e+06\n",
      " 3.75285972e+07 3.75972741e+08]\n"
     ]
    }
   ],
   "source": [
    "sfm = cbt.get_sfm(n_systems, metallicities, M1_ZAMS_ALL, M2_ZAMS_ALL)\n",
    "print(sfm)"
   ]
  },
  {
   "cell_type": "code",
   "execution_count": 10,
   "metadata": {},
   "outputs": [],
   "source": [
    "# Isolate BBHs\n",
    "M1_BBH_ALL = cbt.mask_type(M1_CO_ALL, TYPE1_CO_ALL, TYPE2_CO_ALL, dco_type='bbh')\n",
    "M2_BBH_ALL = cbt.mask_type(M2_CO_ALL, TYPE1_CO_ALL, TYPE2_CO_ALL, dco_type='bbh')\n",
    "SMA_BBH_ALL = cbt.mask_type(SMA_CO_ALL, TYPE1_CO_ALL, TYPE2_CO_ALL, dco_type='bbh')\n",
    "ECC_BBH_ALL = cbt.mask_type(ECC_CO_ALL, TYPE1_CO_ALL, TYPE2_CO_ALL, dco_type='bbh')\n",
    "TYPE1_BBH_ALL = cbt.mask_type(TYPE1_CO_ALL, TYPE1_CO_ALL, TYPE2_CO_ALL, dco_type='bbh')\n",
    "TYPE2_BBH_ALL = cbt.mask_type(TYPE2_CO_ALL, TYPE1_CO_ALL, TYPE2_CO_ALL, dco_type='bbh')\n",
    "DELAY_TIMES_BBH_ALL  = cbt.mask_type(DELAY_TIMES_ALL, TYPE1_CO_ALL, TYPE2_CO_ALL, dco_type='bbh')"
   ]
  },
  {
   "cell_type": "code",
   "execution_count": 11,
   "metadata": {},
   "outputs": [
    {
     "data": {
      "text/plain": [
       "60"
      ]
     },
     "execution_count": 11,
     "metadata": {},
     "output_type": "execute_result"
    }
   ],
   "source": [
    "len(M1_BBH_ALL)"
   ]
  },
  {
   "cell_type": "code",
   "execution_count": 12,
   "metadata": {},
   "outputs": [],
   "source": [
    "M1_BBH_METS = cbt.flatten_list_by_met(sfm, metallicities, M1_BBH_ALL)\n",
    "M2_BBH_METS = cbt.flatten_list_by_met(sfm, metallicities, M2_BBH_ALL)\n",
    "DELAY_TIMES_METS = cbt.flatten_list_by_met(sfm, metallicities, DELAY_TIMES_BBH_ALL)"
   ]
  },
  {
   "cell_type": "markdown",
   "metadata": {},
   "source": [
    "# Save raw data"
   ]
  },
  {
   "cell_type": "code",
   "execution_count": 13,
   "metadata": {},
   "outputs": [],
   "source": [
    "output_dir = \"raw_data\"\n",
    "if not os.path.exists(output_dir):\n",
    "    os.makedirs(output_dir)"
   ]
  },
  {
   "cell_type": "code",
   "execution_count": 14,
   "metadata": {},
   "outputs": [],
   "source": [
    "for i in range(len(M1_BBH_ALL)):\n",
    "    M1_BBH_ALL[i] = list(M1_BBH_ALL[i])"
   ]
  },
  {
   "cell_type": "code",
   "execution_count": 15,
   "metadata": {},
   "outputs": [],
   "source": [
    "for i in range(len(M2_BBH_ALL)):\n",
    "    M2_BBH_ALL[i] = list(M2_BBH_ALL[i])"
   ]
  },
  {
   "cell_type": "code",
   "execution_count": 16,
   "metadata": {},
   "outputs": [],
   "source": [
    "for i in range(len(DELAY_TIMES_BBH_ALL)):\n",
    "    DELAY_TIMES_BBH_ALL[i] = list(DELAY_TIMES_BBH_ALL[i])"
   ]
  },
  {
   "cell_type": "code",
   "execution_count": 31,
   "metadata": {},
   "outputs": [],
   "source": [
    "M1_ZAMS_TOTAL = np.zeros(len(M1_ZAMS_ALL))\n",
    "for i in range(len(M1_ZAMS_ALL)):\n",
    "    M1_ZAMS_TOTAL[i] = np.sum(M1_ZAMS_ALL[i])\n",
    "M1_ZAMS_TOTAL = list(M1_ZAMS_TOTAL)   \n",
    "\n",
    "M2_ZAMS_TOTAL = np.zeros(len(M2_ZAMS_ALL))\n",
    "for i in range(len(M2_ZAMS_ALL)):\n",
    "    M2_ZAMS_TOTAL[i] = np.sum(M2_ZAMS_ALL[i])\n",
    "M2_ZAMS_TOTAL = list(M2_ZAMS_TOTAL)   "
   ]
  },
  {
   "cell_type": "code",
   "execution_count": 34,
   "metadata": {},
   "outputs": [
    {
     "data": {
      "text/plain": [
       "[290.3095082273579,\n",
       " 290.3095082273579,\n",
       " 290.3095082273579,\n",
       " 290.3095082273579,\n",
       " 281.2178826618714,\n",
       " 291.5153175727272,\n",
       " 291.5153175727272,\n",
       " 291.5153175727272,\n",
       " 288.7794970821875,\n",
       " 288.7794970821875,\n",
       " 3017.2571658193224,\n",
       " 3017.2571658193224,\n",
       " 3018.1616137787187,\n",
       " 3024.418344742825,\n",
       " 3019.9533205815433,\n",
       " 3020.6746595384257,\n",
       " 3001.436644397227,\n",
       " 2995.795779832162,\n",
       " 3015.5133034269998,\n",
       " 3015.303527084696,\n",
       " 33174.245693165096,\n",
       " 33178.92374669037,\n",
       " 33212.87561971634,\n",
       " 33125.97323413142,\n",
       " 33071.21449748083,\n",
       " 33023.46232353951,\n",
       " 33034.32315944454,\n",
       " 32865.900281845985,\n",
       " 33034.59291913473,\n",
       " 33123.71540106221,\n",
       " 348877.818347045,\n",
       " 348563.1998279188,\n",
       " 348467.61369533575,\n",
       " 348308.468433816,\n",
       " 348144.6559032222,\n",
       " 347822.15981840855,\n",
       " 347752.8948353584,\n",
       " 347384.3895162193,\n",
       " 347267.8841327211,\n",
       " 346442.0677326563,\n",
       " 3473504.086097972,\n",
       " 3472959.698064536,\n",
       " 3473252.1412879205,\n",
       " 3471937.9002587865,\n",
       " 3471154.585866553,\n",
       " 3467613.3919066796,\n",
       " 3467565.664843322,\n",
       " 3465175.7658895324,\n",
       " 3462994.5117307818,\n",
       " 3454980.3810758865,\n",
       " 34831254.26573036,\n",
       " 34830406.93498437,\n",
       " 34275850.919515505,\n",
       " 34813177.96817278,\n",
       " 34800010.864993416,\n",
       " 68572080.49711718,\n",
       " 34821529.27116475,\n",
       " 34810254.78319226,\n",
       " 34748620.58464166,\n",
       " 68518382.10213687]"
      ]
     },
     "execution_count": 34,
     "metadata": {},
     "output_type": "execute_result"
    }
   ],
   "source": [
    "M2_ZAMS_TOTAL"
   ]
  },
  {
   "cell_type": "code",
   "execution_count": 39,
   "metadata": {},
   "outputs": [],
   "source": [
    "output_dir = \"raw_data\"\n",
    "\n",
    "fname = \"M1_ZAMS_TOTAL\"\n",
    "with open(f\"{output_dir}/{fname}\",'w') as myfile:\n",
    "        json.dump(M1_ZAMS_TOTAL, myfile)\n",
    "        \n",
    "fname = \"M2_ZAMS_TOTAL\"\n",
    "with open(f\"{output_dir}/{fname}\",'w') as myfile:\n",
    "        json.dump(M2_ZAMS_TOTAL, myfile)\n"
   ]
  },
  {
   "cell_type": "code",
   "execution_count": 18,
   "metadata": {},
   "outputs": [],
   "source": [
    "import inspect\n",
    "\n",
    "def retrieve_name(var):\n",
    "    callers_local_vars = inspect.currentframe().f_back.f_locals.items()\n",
    "    return [var_name for var_name, var_val in callers_local_vars if var_val is var]\n"
   ]
  },
  {
   "cell_type": "code",
   "execution_count": 33,
   "metadata": {},
   "outputs": [],
   "source": [
    "for data in [M1_BBH_ALL, M2_BBH_ALL, DELAY_TIMES_BBH_ALL]:\n",
    "    fname = retrieve_name(data)[0]\n",
    "    with open(f\"{output_dir}/{fname}\",'w') as myfile:\n",
    "        json.dump(data, myfile)"
   ]
  },
  {
   "cell_type": "markdown",
   "metadata": {},
   "source": [
    "## save M1, M2, Delay times by metallicity"
   ]
  },
  {
   "cell_type": "code",
   "execution_count": 20,
   "metadata": {},
   "outputs": [],
   "source": [
    "output_dir = \"bbh_by_met\"\n",
    "if not os.path.exists(output_dir):\n",
    "    os.makedirs(output_dir)"
   ]
  },
  {
   "cell_type": "code",
   "execution_count": 21,
   "metadata": {},
   "outputs": [],
   "source": [
    "fname = f\"M1_BBH_METS\"\n",
    "with open(f\"{output_dir}/{fname}\",'w') as myfile:\n",
    "    json.dump(M1_BBH_METS,myfile)\n",
    "    \n",
    "fname = f\"M2_BBH_METS\"\n",
    "with open(f\"{output_dir}/{fname}\",'w') as myfile:\n",
    "    json.dump(M2_BBH_METS,myfile)\n",
    "    \n",
    "fname = f\"DELAY_TIMES_METS\"\n",
    "with open(f\"{output_dir}/{fname}\",'w') as myfile:\n",
    "    json.dump(DELAY_TIMES_METS,myfile)"
   ]
  },
  {
   "cell_type": "markdown",
   "metadata": {},
   "source": [
    "# Read the existing files"
   ]
  },
  {
   "cell_type": "code",
   "execution_count": 7,
   "metadata": {},
   "outputs": [],
   "source": [
    "output_dir = \"bbh_by_met\"\n",
    "\n",
    "fname = f\"M1_BBH_METS\"\n",
    "with open(f\"{output_dir}/{fname}\",'r') as infile:\n",
    "    M1_BBH_METS = json.load(infile)\n",
    "    \n",
    "fname = f\"M2_BBH_METS\"\n",
    "with open(f\"{output_dir}/{fname}\",'r') as infile:\n",
    "    M2_BBH_METS = json.load(infile)\n",
    "    \n",
    "fname = f\"DELAY_TIMES_METS\"\n",
    "with open(f\"{output_dir}/{fname}\",'r') as infile:\n",
    "    DELAY_TIMES_METS = json.load(infile)\n",
    "    \n",
    "    \n",
    "\n",
    "output_dir = \"raw_data\"\n",
    "\n",
    "fname = f\"M1_BBH_ALL\"\n",
    "with open(f\"{output_dir}/{fname}\",'r') as infile:\n",
    "    M1_BBH_ALL = json.load(infile)    \n",
    "    \n",
    "fname = f\"M1_ZAMS_TOTAL\"\n",
    "with open(f\"{output_dir}/{fname}\",'r') as infile:\n",
    "    M1_ZAMS_TOTAL = json.load(infile)   \n",
    "    \n",
    "fname = f\"M2_ZAMS_TOTAL\"\n",
    "with open(f\"{output_dir}/{fname}\",'r') as infile:\n",
    "    M2_ZAMS_TOTAL = json.load(infile)   \n",
    "    "
   ]
  },
  {
   "cell_type": "code",
   "execution_count": 8,
   "metadata": {},
   "outputs": [
    {
     "name": "stdout",
     "output_type": "stream",
     "text": [
      "Star Forming Mass in 5.00e+01 stars: 2.97e+03 M_sol \n",
      "\n",
      "Star Forming Mass in 5.00e+02 stars: 3.19e+04 M_sol \n",
      "\n",
      "Star Forming Mass in 5.00e+03 stars: 3.59e+05 M_sol \n",
      "\n",
      "Star Forming Mass in 5.00e+04 stars: 3.76e+06 M_sol \n",
      "\n",
      "Star Forming Mass in 5.00e+05 stars: 3.75e+07 M_sol \n",
      "\n",
      "Star Forming Mass in 5.00e+06 stars: 3.76e+08 M_sol \n",
      "\n",
      "[2.97380734e+03 3.19232086e+04 3.59218010e+05 3.75513954e+06\n",
      " 3.75285972e+07 3.75972741e+08]\n"
     ]
    }
   ],
   "source": [
    "sfm = cbt.get_sfm(n_systems, metallicities, M1_ZAMS_TOTAL, M2_ZAMS_TOTAL, output_loc=\"raw_data/sfm\")\n",
    "print(sfm)"
   ]
  },
  {
   "cell_type": "code",
   "execution_count": null,
   "metadata": {},
   "outputs": [],
   "source": []
  }
 ],
 "metadata": {
  "kernelspec": {
   "display_name": "Python 3",
   "language": "python",
   "name": "python3"
  },
  "language_info": {
   "codemirror_mode": {
    "name": "ipython",
    "version": 3
   },
   "file_extension": ".py",
   "mimetype": "text/x-python",
   "name": "python",
   "nbconvert_exporter": "python",
   "pygments_lexer": "ipython3",
   "version": "3.7.0"
  },
  "latex_envs": {
   "LaTeX_envs_menu_present": true,
   "autoclose": false,
   "autocomplete": true,
   "bibliofile": "biblio.bib",
   "cite_by": "apalike",
   "current_citInitial": 1,
   "eqLabelWithNumbers": true,
   "eqNumInitial": 1,
   "hotkeys": {
    "equation": "Ctrl-E",
    "itemize": "Ctrl-I"
   },
   "labels_anchors": false,
   "latex_user_defs": false,
   "report_style_numbering": false,
   "user_envs_cfg": false
  },
  "toc": {
   "base_numbering": 1,
   "nav_menu": {},
   "number_sections": true,
   "sideBar": true,
   "skip_h1_title": false,
   "title_cell": "Table of Contents",
   "title_sidebar": "Contents",
   "toc_cell": false,
   "toc_position": {},
   "toc_section_display": true,
   "toc_window_display": false
  }
 },
 "nbformat": 4,
 "nbformat_minor": 2
}
